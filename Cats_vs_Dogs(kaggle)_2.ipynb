{
  "nbformat": 4,
  "nbformat_minor": 0,
  "metadata": {
    "colab": {
      "name": "Cats_vs_Dogs(kaggle)_2.ipynb",
      "provenance": [],
      "authorship_tag": "ABX9TyNxBIWzGCsPUnk3NF70ITm7",
      "include_colab_link": true
    },
    "kernelspec": {
      "name": "python3",
      "display_name": "Python 3"
    },
    "accelerator": "GPU"
  },
  "cells": [
    {
      "cell_type": "markdown",
      "metadata": {
        "id": "view-in-github",
        "colab_type": "text"
      },
      "source": [
        "<a href=\"https://colab.research.google.com/github/kapurm17/Advanced_Deep_Learning/blob/master/Cats_vs_Dogs(kaggle)_2.ipynb\" target=\"_parent\"><img src=\"https://colab.research.google.com/assets/colab-badge.svg\" alt=\"Open In Colab\"/></a>"
      ]
    },
    {
      "cell_type": "code",
      "metadata": {
        "id": "FfPXLZKFZm9d",
        "colab_type": "code",
        "colab": {
          "base_uri": "https://localhost:8080/",
          "height": 208
        },
        "outputId": "6bb1e5d9-89a4-4ef6-f8c6-907138b2fcd8"
      },
      "source": [
        "#getting the subset of the data\n",
        "!wget --no-check-certificate \\\n",
        "  https://storage.googleapis.com/mledu-datasets/cats_and_dogs_filtered.zip \\\n",
        "  -O /tmp/cats_and_dogs_filtered.zip"
      ],
      "execution_count": 1,
      "outputs": [
        {
          "output_type": "stream",
          "text": [
            "--2020-01-18 16:07:11--  https://storage.googleapis.com/mledu-datasets/cats_and_dogs_filtered.zip\n",
            "Resolving storage.googleapis.com (storage.googleapis.com)... 74.125.141.128, 2607:f8b0:400c:c13::80\n",
            "Connecting to storage.googleapis.com (storage.googleapis.com)|74.125.141.128|:443... connected.\n",
            "HTTP request sent, awaiting response... 200 OK\n",
            "Length: 68606236 (65M) [application/zip]\n",
            "Saving to: ‘/tmp/cats_and_dogs_filtered.zip’\n",
            "\n",
            "\r          /tmp/cats   0%[                    ]       0  --.-KB/s               \r         /tmp/cats_  14%[=>                  ]   9.69M  48.4MB/s               \r        /tmp/cats_a  61%[===========>        ]  40.42M   101MB/s               \r/tmp/cats_and_dogs_ 100%[===================>]  65.43M   135MB/s    in 0.5s    \n",
            "\n",
            "2020-01-18 16:07:12 (135 MB/s) - ‘/tmp/cats_and_dogs_filtered.zip’ saved [68606236/68606236]\n",
            "\n"
          ],
          "name": "stdout"
        }
      ]
    },
    {
      "cell_type": "code",
      "metadata": {
        "id": "3AmQA3dRaFrG",
        "colab_type": "code",
        "colab": {}
      },
      "source": [
        "#unzipping into a local env\n",
        "import os\n",
        "import zipfile\n",
        "\n",
        "with zipfile.ZipFile('/tmp/cats_and_dogs_filtered.zip', 'r') as zip_r:\n",
        "  zip_r.extractall('/tmp')"
      ],
      "execution_count": 0,
      "outputs": []
    },
    {
      "cell_type": "code",
      "metadata": {
        "id": "3ACdGCDTaKpu",
        "colab_type": "code",
        "colab": {
          "base_uri": "https://localhost:8080/",
          "height": 34
        },
        "outputId": "69baaa38-dd4f-42d6-b500-61a3468a4815"
      },
      "source": [
        "os.chdir('/tmp/cats_and_dogs_filtered')\n",
        "os.listdir()"
      ],
      "execution_count": 3,
      "outputs": [
        {
          "output_type": "execute_result",
          "data": {
            "text/plain": [
              "['train', 'vectorize.py', 'validation']"
            ]
          },
          "metadata": {
            "tags": []
          },
          "execution_count": 3
        }
      ]
    },
    {
      "cell_type": "code",
      "metadata": {
        "id": "RDkhcPeQaOCX",
        "colab_type": "code",
        "colab": {}
      },
      "source": [
        "train_dir = '/tmp/cats_and_dogs_filtered/train'\n",
        "val_dir = '/tmp/cats_and_dogs_filtered/validation'"
      ],
      "execution_count": 0,
      "outputs": []
    },
    {
      "cell_type": "code",
      "metadata": {
        "id": "Nc496m_7aR3N",
        "colab_type": "code",
        "colab": {
          "base_uri": "https://localhost:8080/",
          "height": 81
        },
        "outputId": "bb2e9991-dd63-4c78-80a7-e9d2e04412e4"
      },
      "source": [
        "import tensorflow as tf\n",
        "from keras.preprocessing.image import ImageDataGenerator"
      ],
      "execution_count": 5,
      "outputs": [
        {
          "output_type": "display_data",
          "data": {
            "text/html": [
              "<p style=\"color: red;\">\n",
              "The default version of TensorFlow in Colab will soon switch to TensorFlow 2.x.<br>\n",
              "We recommend you <a href=\"https://www.tensorflow.org/guide/migrate\" target=\"_blank\">upgrade</a> now \n",
              "or ensure your notebook will continue to use TensorFlow 1.x via the <code>%tensorflow_version 1.x</code> magic:\n",
              "<a href=\"https://colab.research.google.com/notebooks/tensorflow_version.ipynb\" target=\"_blank\">more info</a>.</p>\n"
            ],
            "text/plain": [
              "<IPython.core.display.HTML object>"
            ]
          },
          "metadata": {
            "tags": []
          }
        },
        {
          "output_type": "stream",
          "text": [
            "Using TensorFlow backend.\n"
          ],
          "name": "stderr"
        }
      ]
    },
    {
      "cell_type": "code",
      "metadata": {
        "id": "txEZ0dpraW2G",
        "colab_type": "code",
        "colab": {}
      },
      "source": [
        "# Initialising generators\n",
        "train_gen = ImageDataGenerator(rescale=1/255,\n",
        "                               horizontal_flip=True,\n",
        "                               zoom_range=0.2,\n",
        "                               shear_range=0.2,\n",
        "                               fill_mode='nearest',\n",
        "                               rotation_range=40,\n",
        "                               width_shift_range=0.2,\n",
        "                               height_shift_range=0.2,)\n",
        "\n",
        "val_gen = ImageDataGenerator(rescale=1/255)"
      ],
      "execution_count": 0,
      "outputs": []
    },
    {
      "cell_type": "code",
      "metadata": {
        "id": "681p_4NiapDG",
        "colab_type": "code",
        "colab": {
          "base_uri": "https://localhost:8080/",
          "height": 52
        },
        "outputId": "5c314489-c349-4f25-fdb3-cea71fdcec4f"
      },
      "source": [
        "# getting datta from dirs\n",
        "train_data = train_gen.flow_from_directory(train_dir,\n",
        "                                           batch_size=100,\n",
        "                                           class_mode='binary',\n",
        "                                           target_size=(200, 200))\n",
        "\n",
        "val_data = val_gen.flow_from_directory(val_dir,\n",
        "                                       batch_size=100,\n",
        "                                       class_mode='binary',\n",
        "                                       target_size=(200, 200))"
      ],
      "execution_count": 13,
      "outputs": [
        {
          "output_type": "stream",
          "text": [
            "Found 2000 images belonging to 2 classes.\n",
            "Found 1000 images belonging to 2 classes.\n"
          ],
          "name": "stdout"
        }
      ]
    },
    {
      "cell_type": "code",
      "metadata": {
        "id": "ODZlSq-Tarod",
        "colab_type": "code",
        "colab": {
          "base_uri": "https://localhost:8080/",
          "height": 89
        },
        "outputId": "e2b4aab9-5546-4d35-c8c0-8a3e772b8617"
      },
      "source": [
        "#defiing a model\n",
        "model = tf.keras.models.Sequential([\n",
        "      \n",
        "      tf.keras.layers.Conv2D(filters=16, kernel_size=(3,3),activation='relu', input_shape=(200, 200, 3)),\n",
        "      tf.keras.layers.MaxPooling2D(2,2),\n",
        "\n",
        "      tf.keras.layers.Conv2D(filters=32, kernel_size=(3,3),activation='relu'),\n",
        "      tf.keras.layers.MaxPooling2D(2,2),\n",
        "\n",
        "      tf.keras.layers.Conv2D(filters=64, kernel_size=(3,3),activation='relu'),\n",
        "      tf.keras.layers.MaxPooling2D(2,2),\n",
        "\n",
        "      tf.keras.layers.Flatten(),\n",
        "      tf.keras.layers.Dense(units=512, activation='relu'),\n",
        "      tf.keras.layers.Dense(units=128, activation='relu'),\n",
        "      tf.keras.layers.Dense(units=1, activation='sigmoid')\n",
        "])"
      ],
      "execution_count": 8,
      "outputs": [
        {
          "output_type": "stream",
          "text": [
            "WARNING:tensorflow:From /usr/local/lib/python3.6/dist-packages/tensorflow_core/python/ops/resource_variable_ops.py:1630: calling BaseResourceVariable.__init__ (from tensorflow.python.ops.resource_variable_ops) with constraint is deprecated and will be removed in a future version.\n",
            "Instructions for updating:\n",
            "If using Keras pass *_constraint arguments to layers.\n"
          ],
          "name": "stdout"
        }
      ]
    },
    {
      "cell_type": "code",
      "metadata": {
        "id": "8xeZJADLawAl",
        "colab_type": "code",
        "colab": {
          "base_uri": "https://localhost:8080/",
          "height": 69
        },
        "outputId": "99aef300-42c4-47ce-e73a-0fae99b3014a"
      },
      "source": [
        "model.compile(optimizer=tf.keras.optimizers.RMSprop(lr=0.001), loss='binary_crossentropy', metrics=[\"acc\"])"
      ],
      "execution_count": 9,
      "outputs": [
        {
          "output_type": "stream",
          "text": [
            "WARNING:tensorflow:From /usr/local/lib/python3.6/dist-packages/tensorflow_core/python/ops/nn_impl.py:183: where (from tensorflow.python.ops.array_ops) is deprecated and will be removed in a future version.\n",
            "Instructions for updating:\n",
            "Use tf.where in 2.0, which has the same broadcast rule as np.where\n"
          ],
          "name": "stdout"
        }
      ]
    },
    {
      "cell_type": "code",
      "metadata": {
        "id": "1M5FL70razvc",
        "colab_type": "code",
        "colab": {
          "base_uri": "https://localhost:8080/",
          "height": 1000
        },
        "outputId": "16cc7990-5a38-4b8c-b105-a22610ee26f5"
      },
      "source": [
        "history = model.fit(train_data, \n",
        "                    steps_per_epoch=10,\n",
        "                    epochs=35,\n",
        "                    \n",
        "                    validation_data=val_data\n",
        "                    )"
      ],
      "execution_count": 15,
      "outputs": [
        {
          "output_type": "stream",
          "text": [
            "Epoch 1/35\n",
            " 9/10 [==========================>...] - ETA: 1s - loss: 0.4822 - acc: 0.7633Epoch 1/35\n",
            "10/10 [==============================] - 5s 477ms/step - loss: 0.5512 - acc: 0.7710\n",
            "10/10 [==============================] - 15s 2s/step - loss: 0.4727 - acc: 0.7740 - val_loss: 0.5512 - val_acc: 0.7710\n",
            "Epoch 2/35\n",
            " 9/10 [==========================>...] - ETA: 0s - loss: 0.5719 - acc: 0.6978Epoch 1/35\n",
            "10/10 [==============================] - 5s 470ms/step - loss: 0.4946 - acc: 0.7660\n",
            "10/10 [==============================] - 12s 1s/step - loss: 0.5666 - acc: 0.7060 - val_loss: 0.4946 - val_acc: 0.7660\n",
            "Epoch 3/35\n",
            " 9/10 [==========================>...] - ETA: 0s - loss: 0.4762 - acc: 0.7756Epoch 1/35\n",
            "10/10 [==============================] - 5s 464ms/step - loss: 0.4664 - acc: 0.7880\n",
            "10/10 [==============================] - 12s 1s/step - loss: 0.4763 - acc: 0.7770 - val_loss: 0.4664 - val_acc: 0.7880\n",
            "Epoch 4/35\n",
            " 9/10 [==========================>...] - ETA: 0s - loss: 0.4723 - acc: 0.7667Epoch 1/35\n",
            "10/10 [==============================] - 5s 462ms/step - loss: 0.4723 - acc: 0.7800\n",
            "10/10 [==============================] - 13s 1s/step - loss: 0.4780 - acc: 0.7660 - val_loss: 0.4723 - val_acc: 0.7800\n",
            "Epoch 5/35\n",
            " 9/10 [==========================>...] - ETA: 0s - loss: 0.4562 - acc: 0.7633Epoch 1/35\n",
            "10/10 [==============================] - 5s 476ms/step - loss: 0.5022 - acc: 0.7640\n",
            "10/10 [==============================] - 13s 1s/step - loss: 0.4617 - acc: 0.7630 - val_loss: 0.5022 - val_acc: 0.7640\n",
            "Epoch 6/35\n",
            " 9/10 [==========================>...] - ETA: 0s - loss: 0.4659 - acc: 0.7644Epoch 1/35\n",
            "10/10 [==============================] - 5s 473ms/step - loss: 0.5071 - acc: 0.7490\n",
            "10/10 [==============================] - 13s 1s/step - loss: 0.4762 - acc: 0.7600 - val_loss: 0.5071 - val_acc: 0.7490\n",
            "Epoch 7/35\n",
            " 9/10 [==========================>...] - ETA: 0s - loss: 0.4938 - acc: 0.7644Epoch 1/35\n",
            "10/10 [==============================] - 5s 472ms/step - loss: 0.4996 - acc: 0.7670\n",
            "10/10 [==============================] - 13s 1s/step - loss: 0.4877 - acc: 0.7670 - val_loss: 0.4996 - val_acc: 0.7670\n",
            "Epoch 8/35\n",
            " 9/10 [==========================>...] - ETA: 0s - loss: 0.4740 - acc: 0.7756Epoch 1/35\n",
            "10/10 [==============================] - 5s 473ms/step - loss: 0.4790 - acc: 0.7870\n",
            "10/10 [==============================] - 13s 1s/step - loss: 0.4673 - acc: 0.7810 - val_loss: 0.4790 - val_acc: 0.7870\n",
            "Epoch 9/35\n",
            " 9/10 [==========================>...] - ETA: 0s - loss: 0.4531 - acc: 0.7767Epoch 1/35\n",
            "10/10 [==============================] - 5s 473ms/step - loss: 0.4825 - acc: 0.7750\n",
            "10/10 [==============================] - 13s 1s/step - loss: 0.4544 - acc: 0.7790 - val_loss: 0.4825 - val_acc: 0.7750\n",
            "Epoch 10/35\n",
            " 9/10 [==========================>...] - ETA: 0s - loss: 0.4733 - acc: 0.7733Epoch 1/35\n",
            "10/10 [==============================] - 5s 489ms/step - loss: 0.5331 - acc: 0.7220\n",
            "10/10 [==============================] - 13s 1s/step - loss: 0.4907 - acc: 0.7660 - val_loss: 0.5331 - val_acc: 0.7220\n",
            "Epoch 11/35\n",
            " 9/10 [==========================>...] - ETA: 0s - loss: 0.4660 - acc: 0.7911Epoch 1/35\n",
            "10/10 [==============================] - 5s 474ms/step - loss: 0.5878 - acc: 0.6810\n",
            "10/10 [==============================] - 12s 1s/step - loss: 0.4882 - acc: 0.7810 - val_loss: 0.5878 - val_acc: 0.6810\n",
            "Epoch 12/35\n",
            " 9/10 [==========================>...] - ETA: 0s - loss: 0.4600 - acc: 0.7800Epoch 1/35\n",
            "10/10 [==============================] - 5s 468ms/step - loss: 0.4896 - acc: 0.7660\n",
            "10/10 [==============================] - 13s 1s/step - loss: 0.4678 - acc: 0.7710 - val_loss: 0.4896 - val_acc: 0.7660\n",
            "Epoch 13/35\n",
            " 9/10 [==========================>...] - ETA: 0s - loss: 0.4765 - acc: 0.7644Epoch 1/35\n",
            "10/10 [==============================] - 5s 470ms/step - loss: 0.4728 - acc: 0.7760\n",
            "10/10 [==============================] - 13s 1s/step - loss: 0.4810 - acc: 0.7560 - val_loss: 0.4728 - val_acc: 0.7760\n",
            "Epoch 14/35\n",
            " 9/10 [==========================>...] - ETA: 0s - loss: 0.4375 - acc: 0.7956Epoch 1/35\n",
            "10/10 [==============================] - 5s 473ms/step - loss: 0.4905 - acc: 0.7830\n",
            "10/10 [==============================] - 13s 1s/step - loss: 0.4326 - acc: 0.7980 - val_loss: 0.4905 - val_acc: 0.7830\n",
            "Epoch 15/35\n",
            " 9/10 [==========================>...] - ETA: 0s - loss: 0.4507 - acc: 0.7978Epoch 1/35\n",
            "10/10 [==============================] - 5s 474ms/step - loss: 0.5964 - acc: 0.7640\n",
            "10/10 [==============================] - 13s 1s/step - loss: 0.4502 - acc: 0.7940 - val_loss: 0.5964 - val_acc: 0.7640\n",
            "Epoch 16/35\n",
            " 9/10 [==========================>...] - ETA: 0s - loss: 0.4711 - acc: 0.7689Epoch 1/35\n",
            "10/10 [==============================] - 5s 469ms/step - loss: 0.4629 - acc: 0.7860\n",
            "10/10 [==============================] - 13s 1s/step - loss: 0.4696 - acc: 0.7710 - val_loss: 0.4629 - val_acc: 0.7860\n",
            "Epoch 17/35\n",
            " 9/10 [==========================>...] - ETA: 0s - loss: 0.4603 - acc: 0.7756Epoch 1/35\n",
            "10/10 [==============================] - 5s 475ms/step - loss: 0.4499 - acc: 0.7920\n",
            "10/10 [==============================] - 12s 1s/step - loss: 0.4647 - acc: 0.7740 - val_loss: 0.4499 - val_acc: 0.7920\n",
            "Epoch 18/35\n",
            " 9/10 [==========================>...] - ETA: 0s - loss: 0.4454 - acc: 0.7922Epoch 1/35\n",
            "10/10 [==============================] - 5s 470ms/step - loss: 0.4606 - acc: 0.7890\n",
            "10/10 [==============================] - 12s 1s/step - loss: 0.4456 - acc: 0.7970 - val_loss: 0.4606 - val_acc: 0.7890\n",
            "Epoch 19/35\n",
            " 9/10 [==========================>...] - ETA: 0s - loss: 0.4521 - acc: 0.7800Epoch 1/35\n",
            "10/10 [==============================] - 5s 467ms/step - loss: 0.4778 - acc: 0.7760\n",
            "10/10 [==============================] - 12s 1s/step - loss: 0.4486 - acc: 0.7770 - val_loss: 0.4778 - val_acc: 0.7760\n",
            "Epoch 20/35\n",
            " 9/10 [==========================>...] - ETA: 0s - loss: 0.4206 - acc: 0.8033Epoch 1/35\n",
            "10/10 [==============================] - 5s 477ms/step - loss: 0.5179 - acc: 0.7490\n",
            "10/10 [==============================] - 13s 1s/step - loss: 0.4226 - acc: 0.8020 - val_loss: 0.5179 - val_acc: 0.7490\n",
            "Epoch 21/35\n",
            " 9/10 [==========================>...] - ETA: 0s - loss: 0.4646 - acc: 0.7911Epoch 1/35\n",
            "10/10 [==============================] - 5s 466ms/step - loss: 0.4850 - acc: 0.7600\n",
            "10/10 [==============================] - 13s 1s/step - loss: 0.4616 - acc: 0.7930 - val_loss: 0.4850 - val_acc: 0.7600\n",
            "Epoch 22/35\n",
            " 9/10 [==========================>...] - ETA: 0s - loss: 0.4610 - acc: 0.7811Epoch 1/35\n",
            "10/10 [==============================] - 5s 491ms/step - loss: 0.4998 - acc: 0.7600\n",
            "10/10 [==============================] - 13s 1s/step - loss: 0.4558 - acc: 0.7860 - val_loss: 0.4998 - val_acc: 0.7600\n",
            "Epoch 23/35\n",
            " 9/10 [==========================>...] - ETA: 0s - loss: 0.4399 - acc: 0.8033Epoch 1/35\n",
            "10/10 [==============================] - 5s 467ms/step - loss: 0.5060 - acc: 0.7760\n",
            "10/10 [==============================] - 13s 1s/step - loss: 0.4347 - acc: 0.8090 - val_loss: 0.5060 - val_acc: 0.7760\n",
            "Epoch 24/35\n",
            " 9/10 [==========================>...] - ETA: 0s - loss: 0.4367 - acc: 0.7789Epoch 1/35\n",
            "10/10 [==============================] - 5s 475ms/step - loss: 0.4773 - acc: 0.7720\n",
            "10/10 [==============================] - 12s 1s/step - loss: 0.4438 - acc: 0.7760 - val_loss: 0.4773 - val_acc: 0.7720\n",
            "Epoch 25/35\n",
            " 9/10 [==========================>...] - ETA: 0s - loss: 0.4331 - acc: 0.7867Epoch 1/35\n",
            "10/10 [==============================] - 5s 477ms/step - loss: 0.9120 - acc: 0.6740\n",
            "10/10 [==============================] - 13s 1s/step - loss: 0.4533 - acc: 0.7760 - val_loss: 0.9120 - val_acc: 0.6740\n",
            "Epoch 26/35\n",
            " 9/10 [==========================>...] - ETA: 0s - loss: 0.5261 - acc: 0.7478Epoch 1/35\n",
            "10/10 [==============================] - 5s 473ms/step - loss: 0.4644 - acc: 0.7770\n",
            "10/10 [==============================] - 13s 1s/step - loss: 0.5191 - acc: 0.7530 - val_loss: 0.4644 - val_acc: 0.7770\n",
            "Epoch 27/35\n",
            " 9/10 [==========================>...] - ETA: 0s - loss: 0.4015 - acc: 0.8178Epoch 1/35\n",
            "10/10 [==============================] - 5s 470ms/step - loss: 0.5191 - acc: 0.7540\n",
            "10/10 [==============================] - 13s 1s/step - loss: 0.4065 - acc: 0.8150 - val_loss: 0.5191 - val_acc: 0.7540\n",
            "Epoch 28/35\n",
            " 9/10 [==========================>...] - ETA: 0s - loss: 0.4242 - acc: 0.8111Epoch 1/35\n",
            "10/10 [==============================] - 5s 470ms/step - loss: 0.4763 - acc: 0.7810\n",
            "10/10 [==============================] - 13s 1s/step - loss: 0.4294 - acc: 0.8070 - val_loss: 0.4763 - val_acc: 0.7810\n",
            "Epoch 29/35\n",
            " 9/10 [==========================>...] - ETA: 0s - loss: 0.4590 - acc: 0.7867Epoch 1/35\n",
            "10/10 [==============================] - 5s 474ms/step - loss: 0.5810 - acc: 0.7090\n",
            "10/10 [==============================] - 13s 1s/step - loss: 0.4669 - acc: 0.7860 - val_loss: 0.5810 - val_acc: 0.7090\n",
            "Epoch 30/35\n",
            " 9/10 [==========================>...] - ETA: 0s - loss: 0.4429 - acc: 0.7933Epoch 1/35\n",
            "10/10 [==============================] - 5s 480ms/step - loss: 0.4983 - acc: 0.7650\n",
            "10/10 [==============================] - 13s 1s/step - loss: 0.4401 - acc: 0.7940 - val_loss: 0.4983 - val_acc: 0.7650\n",
            "Epoch 31/35\n",
            " 9/10 [==========================>...] - ETA: 0s - loss: 0.4585 - acc: 0.7900Epoch 1/35\n",
            "10/10 [==============================] - 5s 470ms/step - loss: 0.4537 - acc: 0.7810\n",
            "10/10 [==============================] - 12s 1s/step - loss: 0.4540 - acc: 0.7950 - val_loss: 0.4537 - val_acc: 0.7810\n",
            "Epoch 32/35\n",
            " 9/10 [==========================>...] - ETA: 0s - loss: 0.4520 - acc: 0.7767Epoch 1/35\n",
            "10/10 [==============================] - 5s 479ms/step - loss: 0.4997 - acc: 0.7750\n",
            "10/10 [==============================] - 13s 1s/step - loss: 0.4485 - acc: 0.7770 - val_loss: 0.4997 - val_acc: 0.7750\n",
            "Epoch 33/35\n",
            " 9/10 [==========================>...] - ETA: 0s - loss: 0.4174 - acc: 0.8133Epoch 1/35\n",
            "10/10 [==============================] - 5s 469ms/step - loss: 0.4848 - acc: 0.7590\n",
            "10/10 [==============================] - 13s 1s/step - loss: 0.4190 - acc: 0.8070 - val_loss: 0.4848 - val_acc: 0.7590\n",
            "Epoch 34/35\n",
            " 9/10 [==========================>...] - ETA: 0s - loss: 0.4490 - acc: 0.7844Epoch 1/35\n",
            "10/10 [==============================] - 5s 471ms/step - loss: 0.4943 - acc: 0.7630\n",
            "10/10 [==============================] - 13s 1s/step - loss: 0.4490 - acc: 0.7820 - val_loss: 0.4943 - val_acc: 0.7630\n",
            "Epoch 35/35\n",
            " 9/10 [==========================>...] - ETA: 0s - loss: 0.4641 - acc: 0.7889Epoch 1/35\n",
            "10/10 [==============================] - 5s 476ms/step - loss: 0.4665 - acc: 0.7850\n",
            "10/10 [==============================] - 13s 1s/step - loss: 0.4610 - acc: 0.7870 - val_loss: 0.4665 - val_acc: 0.7850\n"
          ],
          "name": "stdout"
        }
      ]
    },
    {
      "cell_type": "code",
      "metadata": {
        "id": "4zKXOn3Sa19N",
        "colab_type": "code",
        "colab": {}
      },
      "source": [
        ""
      ],
      "execution_count": 0,
      "outputs": []
    }
  ]
}